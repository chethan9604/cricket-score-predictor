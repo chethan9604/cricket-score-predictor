{
 "cells": [
  {
   "cell_type": "markdown",
   "metadata": {},
   "source": [
    "# ODI First innings score prediction system"
   ]
  },
  {
   "cell_type": "markdown",
   "metadata": {},
   "source": [
    "## P.CHETHAN SAI KUMAR REDDY\n",
    "## AM.EN.U4CSE19243"
   ]
  },
  {
   "cell_type": "markdown",
   "metadata": {},
   "source": [
    "## Definition"
   ]
  },
  {
   "cell_type": "markdown",
   "metadata": {},
   "source": [
    "As we know Cricket is the foremost loved game, after football and most loved game in our India. There are many people who tries to predict the scores of matches based on their individual cricket sense. Cricket has certain rules and game system. When a cricket match is played many factors comes into consideration such as venue, players performance etc. In this project we are going to predict final score of a team in a match by analyzing data of previous matches. We use features such as current score and no of wickets and score in last few overs. Our system finally present quantitative results displayed by best suitable algorithm having highest accuracy. Cricket is a sport with multiple formats, different playing standards and varying duration. T20 and ODI are two limited overs formats among them. We try to predict scores in these two formats in our project."
   ]
  },
  {
   "cell_type": "markdown",
   "metadata": {},
   "source": [
    "## Dataset"
   ]
  },
  {
   "cell_type": "markdown",
   "metadata": {},
   "source": [
    "We have found suitable datasets required for our project in Kaggle website.\n",
    "\n",
    "The data is about previous records of ball-to-ball information mapped by a batsman to a bowler which includes runs, wickets, overs, runs scored in last 5 overs, wickets for last 5 overs, strike, non-striker. The datasets are being used by various cricket teams to plan against opponent team players to compare their stats against their bowlers and viceversa.\n",
    "\n",
    "Our Datasets are IPL,ODI ,BBLand T20 scores datasets"
   ]
  },
  {
   "cell_type": "markdown",
   "metadata": {},
   "source": [
    "## Prepare data"
   ]
  },
  {
   "cell_type": "code",
   "execution_count": 2,
   "metadata": {},
   "outputs": [],
   "source": [
    "# Importing essential libraries\n",
    "import pandas as pd\n",
    "\n",
    "# Loading the dataset\n",
    "data = pd.read_csv('odi.csv')"
   ]
  },
  {
   "cell_type": "code",
   "execution_count": 3,
   "metadata": {},
   "outputs": [
    {
     "data": {
      "text/html": [
       "<div>\n",
       "<style scoped>\n",
       "    .dataframe tbody tr th:only-of-type {\n",
       "        vertical-align: middle;\n",
       "    }\n",
       "\n",
       "    .dataframe tbody tr th {\n",
       "        vertical-align: top;\n",
       "    }\n",
       "\n",
       "    .dataframe thead th {\n",
       "        text-align: right;\n",
       "    }\n",
       "</style>\n",
       "<table border=\"1\" class=\"dataframe\">\n",
       "  <thead>\n",
       "    <tr style=\"text-align: right;\">\n",
       "      <th></th>\n",
       "      <th>mid</th>\n",
       "      <th>date</th>\n",
       "      <th>venue</th>\n",
       "      <th>bat_team</th>\n",
       "      <th>bowl_team</th>\n",
       "      <th>batsman</th>\n",
       "      <th>bowler</th>\n",
       "      <th>runs</th>\n",
       "      <th>wickets</th>\n",
       "      <th>overs</th>\n",
       "      <th>runs_last_5</th>\n",
       "      <th>wickets_last_5</th>\n",
       "      <th>striker</th>\n",
       "      <th>non-striker</th>\n",
       "      <th>total</th>\n",
       "    </tr>\n",
       "  </thead>\n",
       "  <tbody>\n",
       "    <tr>\n",
       "      <th>0</th>\n",
       "      <td>1</td>\n",
       "      <td>2006-06-13</td>\n",
       "      <td>Civil Service Cricket Club, Stormont</td>\n",
       "      <td>England</td>\n",
       "      <td>Ireland</td>\n",
       "      <td>ME Trescothick</td>\n",
       "      <td>DT Johnston</td>\n",
       "      <td>0</td>\n",
       "      <td>0</td>\n",
       "      <td>0.1</td>\n",
       "      <td>0</td>\n",
       "      <td>0</td>\n",
       "      <td>0</td>\n",
       "      <td>0</td>\n",
       "      <td>301</td>\n",
       "    </tr>\n",
       "    <tr>\n",
       "      <th>1</th>\n",
       "      <td>1</td>\n",
       "      <td>2006-06-13</td>\n",
       "      <td>Civil Service Cricket Club, Stormont</td>\n",
       "      <td>England</td>\n",
       "      <td>Ireland</td>\n",
       "      <td>ME Trescothick</td>\n",
       "      <td>DT Johnston</td>\n",
       "      <td>0</td>\n",
       "      <td>0</td>\n",
       "      <td>0.2</td>\n",
       "      <td>0</td>\n",
       "      <td>0</td>\n",
       "      <td>0</td>\n",
       "      <td>0</td>\n",
       "      <td>301</td>\n",
       "    </tr>\n",
       "    <tr>\n",
       "      <th>2</th>\n",
       "      <td>1</td>\n",
       "      <td>2006-06-13</td>\n",
       "      <td>Civil Service Cricket Club, Stormont</td>\n",
       "      <td>England</td>\n",
       "      <td>Ireland</td>\n",
       "      <td>ME Trescothick</td>\n",
       "      <td>DT Johnston</td>\n",
       "      <td>4</td>\n",
       "      <td>0</td>\n",
       "      <td>0.3</td>\n",
       "      <td>4</td>\n",
       "      <td>0</td>\n",
       "      <td>0</td>\n",
       "      <td>0</td>\n",
       "      <td>301</td>\n",
       "    </tr>\n",
       "    <tr>\n",
       "      <th>3</th>\n",
       "      <td>1</td>\n",
       "      <td>2006-06-13</td>\n",
       "      <td>Civil Service Cricket Club, Stormont</td>\n",
       "      <td>England</td>\n",
       "      <td>Ireland</td>\n",
       "      <td>ME Trescothick</td>\n",
       "      <td>DT Johnston</td>\n",
       "      <td>6</td>\n",
       "      <td>0</td>\n",
       "      <td>0.4</td>\n",
       "      <td>6</td>\n",
       "      <td>0</td>\n",
       "      <td>0</td>\n",
       "      <td>0</td>\n",
       "      <td>301</td>\n",
       "    </tr>\n",
       "    <tr>\n",
       "      <th>4</th>\n",
       "      <td>1</td>\n",
       "      <td>2006-06-13</td>\n",
       "      <td>Civil Service Cricket Club, Stormont</td>\n",
       "      <td>England</td>\n",
       "      <td>Ireland</td>\n",
       "      <td>ME Trescothick</td>\n",
       "      <td>DT Johnston</td>\n",
       "      <td>6</td>\n",
       "      <td>0</td>\n",
       "      <td>0.5</td>\n",
       "      <td>6</td>\n",
       "      <td>0</td>\n",
       "      <td>0</td>\n",
       "      <td>0</td>\n",
       "      <td>301</td>\n",
       "    </tr>\n",
       "  </tbody>\n",
       "</table>\n",
       "</div>"
      ],
      "text/plain": [
       "   mid        date                                 venue bat_team bowl_team  \\\n",
       "0    1  2006-06-13  Civil Service Cricket Club, Stormont  England   Ireland   \n",
       "1    1  2006-06-13  Civil Service Cricket Club, Stormont  England   Ireland   \n",
       "2    1  2006-06-13  Civil Service Cricket Club, Stormont  England   Ireland   \n",
       "3    1  2006-06-13  Civil Service Cricket Club, Stormont  England   Ireland   \n",
       "4    1  2006-06-13  Civil Service Cricket Club, Stormont  England   Ireland   \n",
       "\n",
       "          batsman       bowler  runs  wickets  overs  runs_last_5  \\\n",
       "0  ME Trescothick  DT Johnston     0        0    0.1            0   \n",
       "1  ME Trescothick  DT Johnston     0        0    0.2            0   \n",
       "2  ME Trescothick  DT Johnston     4        0    0.3            4   \n",
       "3  ME Trescothick  DT Johnston     6        0    0.4            6   \n",
       "4  ME Trescothick  DT Johnston     6        0    0.5            6   \n",
       "\n",
       "   wickets_last_5  striker  non-striker  total  \n",
       "0               0        0            0    301  \n",
       "1               0        0            0    301  \n",
       "2               0        0            0    301  \n",
       "3               0        0            0    301  \n",
       "4               0        0            0    301  "
      ]
     },
     "execution_count": 3,
     "metadata": {},
     "output_type": "execute_result"
    }
   ],
   "source": [
    "data.head()"
   ]
  },
  {
   "cell_type": "code",
   "execution_count": 4,
   "metadata": {},
   "outputs": [
    {
     "data": {
      "text/html": [
       "<div>\n",
       "<style scoped>\n",
       "    .dataframe tbody tr th:only-of-type {\n",
       "        vertical-align: middle;\n",
       "    }\n",
       "\n",
       "    .dataframe tbody tr th {\n",
       "        vertical-align: top;\n",
       "    }\n",
       "\n",
       "    .dataframe thead th {\n",
       "        text-align: right;\n",
       "    }\n",
       "</style>\n",
       "<table border=\"1\" class=\"dataframe\">\n",
       "  <thead>\n",
       "    <tr style=\"text-align: right;\">\n",
       "      <th></th>\n",
       "      <th>mid</th>\n",
       "      <th>date</th>\n",
       "      <th>venue</th>\n",
       "      <th>bat_team</th>\n",
       "      <th>bowl_team</th>\n",
       "      <th>batsman</th>\n",
       "      <th>bowler</th>\n",
       "      <th>runs</th>\n",
       "      <th>wickets</th>\n",
       "      <th>overs</th>\n",
       "      <th>runs_last_5</th>\n",
       "      <th>wickets_last_5</th>\n",
       "      <th>striker</th>\n",
       "      <th>non-striker</th>\n",
       "      <th>total</th>\n",
       "    </tr>\n",
       "  </thead>\n",
       "  <tbody>\n",
       "    <tr>\n",
       "      <th>count</th>\n",
       "      <td>350899.000000</td>\n",
       "      <td>350899</td>\n",
       "      <td>350899</td>\n",
       "      <td>350899</td>\n",
       "      <td>350899</td>\n",
       "      <td>350899</td>\n",
       "      <td>350899</td>\n",
       "      <td>350899.000000</td>\n",
       "      <td>350899.000000</td>\n",
       "      <td>350899.000000</td>\n",
       "      <td>350899.000000</td>\n",
       "      <td>350899.000000</td>\n",
       "      <td>350899.000000</td>\n",
       "      <td>350899.000000</td>\n",
       "      <td>350899.000000</td>\n",
       "    </tr>\n",
       "    <tr>\n",
       "      <th>unique</th>\n",
       "      <td>NaN</td>\n",
       "      <td>1042</td>\n",
       "      <td>136</td>\n",
       "      <td>21</td>\n",
       "      <td>21</td>\n",
       "      <td>938</td>\n",
       "      <td>709</td>\n",
       "      <td>NaN</td>\n",
       "      <td>NaN</td>\n",
       "      <td>NaN</td>\n",
       "      <td>NaN</td>\n",
       "      <td>NaN</td>\n",
       "      <td>NaN</td>\n",
       "      <td>NaN</td>\n",
       "      <td>NaN</td>\n",
       "    </tr>\n",
       "    <tr>\n",
       "      <th>top</th>\n",
       "      <td>NaN</td>\n",
       "      <td>2007-02-04</td>\n",
       "      <td>Shere Bangla National Stadium</td>\n",
       "      <td>Australia</td>\n",
       "      <td>India</td>\n",
       "      <td>KC Sangakkara</td>\n",
       "      <td>Shahid Afridi</td>\n",
       "      <td>NaN</td>\n",
       "      <td>NaN</td>\n",
       "      <td>NaN</td>\n",
       "      <td>NaN</td>\n",
       "      <td>NaN</td>\n",
       "      <td>NaN</td>\n",
       "      <td>NaN</td>\n",
       "      <td>NaN</td>\n",
       "    </tr>\n",
       "    <tr>\n",
       "      <th>freq</th>\n",
       "      <td>NaN</td>\n",
       "      <td>1233</td>\n",
       "      <td>23577</td>\n",
       "      <td>44876</td>\n",
       "      <td>45141</td>\n",
       "      <td>6822</td>\n",
       "      <td>4780</td>\n",
       "      <td>NaN</td>\n",
       "      <td>NaN</td>\n",
       "      <td>NaN</td>\n",
       "      <td>NaN</td>\n",
       "      <td>NaN</td>\n",
       "      <td>NaN</td>\n",
       "      <td>NaN</td>\n",
       "      <td>NaN</td>\n",
       "    </tr>\n",
       "    <tr>\n",
       "      <th>mean</th>\n",
       "      <td>594.360426</td>\n",
       "      <td>NaN</td>\n",
       "      <td>NaN</td>\n",
       "      <td>NaN</td>\n",
       "      <td>NaN</td>\n",
       "      <td>NaN</td>\n",
       "      <td>NaN</td>\n",
       "      <td>114.801661</td>\n",
       "      <td>2.974970</td>\n",
       "      <td>24.052899</td>\n",
       "      <td>23.548303</td>\n",
       "      <td>0.669814</td>\n",
       "      <td>35.180129</td>\n",
       "      <td>12.427944</td>\n",
       "      <td>255.355387</td>\n",
       "    </tr>\n",
       "    <tr>\n",
       "      <th>std</th>\n",
       "      <td>343.605128</td>\n",
       "      <td>NaN</td>\n",
       "      <td>NaN</td>\n",
       "      <td>NaN</td>\n",
       "      <td>NaN</td>\n",
       "      <td>NaN</td>\n",
       "      <td>NaN</td>\n",
       "      <td>77.665959</td>\n",
       "      <td>2.298959</td>\n",
       "      <td>14.235439</td>\n",
       "      <td>11.042974</td>\n",
       "      <td>0.833895</td>\n",
       "      <td>28.115264</td>\n",
       "      <td>15.019181</td>\n",
       "      <td>62.354412</td>\n",
       "    </tr>\n",
       "    <tr>\n",
       "      <th>min</th>\n",
       "      <td>1.000000</td>\n",
       "      <td>NaN</td>\n",
       "      <td>NaN</td>\n",
       "      <td>NaN</td>\n",
       "      <td>NaN</td>\n",
       "      <td>NaN</td>\n",
       "      <td>NaN</td>\n",
       "      <td>0.000000</td>\n",
       "      <td>0.000000</td>\n",
       "      <td>0.000000</td>\n",
       "      <td>0.000000</td>\n",
       "      <td>0.000000</td>\n",
       "      <td>0.000000</td>\n",
       "      <td>0.000000</td>\n",
       "      <td>44.000000</td>\n",
       "    </tr>\n",
       "    <tr>\n",
       "      <th>25%</th>\n",
       "      <td>296.000000</td>\n",
       "      <td>NaN</td>\n",
       "      <td>NaN</td>\n",
       "      <td>NaN</td>\n",
       "      <td>NaN</td>\n",
       "      <td>NaN</td>\n",
       "      <td>NaN</td>\n",
       "      <td>51.000000</td>\n",
       "      <td>1.000000</td>\n",
       "      <td>11.600000</td>\n",
       "      <td>17.000000</td>\n",
       "      <td>0.000000</td>\n",
       "      <td>13.000000</td>\n",
       "      <td>2.000000</td>\n",
       "      <td>217.000000</td>\n",
       "    </tr>\n",
       "    <tr>\n",
       "      <th>50%</th>\n",
       "      <td>596.000000</td>\n",
       "      <td>NaN</td>\n",
       "      <td>NaN</td>\n",
       "      <td>NaN</td>\n",
       "      <td>NaN</td>\n",
       "      <td>NaN</td>\n",
       "      <td>NaN</td>\n",
       "      <td>105.000000</td>\n",
       "      <td>3.000000</td>\n",
       "      <td>23.600000</td>\n",
       "      <td>23.000000</td>\n",
       "      <td>0.000000</td>\n",
       "      <td>29.000000</td>\n",
       "      <td>7.000000</td>\n",
       "      <td>257.000000</td>\n",
       "    </tr>\n",
       "    <tr>\n",
       "      <th>75%</th>\n",
       "      <td>893.000000</td>\n",
       "      <td>NaN</td>\n",
       "      <td>NaN</td>\n",
       "      <td>NaN</td>\n",
       "      <td>NaN</td>\n",
       "      <td>NaN</td>\n",
       "      <td>NaN</td>\n",
       "      <td>168.000000</td>\n",
       "      <td>4.000000</td>\n",
       "      <td>36.200000</td>\n",
       "      <td>29.000000</td>\n",
       "      <td>1.000000</td>\n",
       "      <td>50.000000</td>\n",
       "      <td>18.000000</td>\n",
       "      <td>298.000000</td>\n",
       "    </tr>\n",
       "    <tr>\n",
       "      <th>max</th>\n",
       "      <td>1188.000000</td>\n",
       "      <td>NaN</td>\n",
       "      <td>NaN</td>\n",
       "      <td>NaN</td>\n",
       "      <td>NaN</td>\n",
       "      <td>NaN</td>\n",
       "      <td>NaN</td>\n",
       "      <td>444.000000</td>\n",
       "      <td>10.000000</td>\n",
       "      <td>49.600000</td>\n",
       "      <td>101.000000</td>\n",
       "      <td>7.000000</td>\n",
       "      <td>264.000000</td>\n",
       "      <td>149.000000</td>\n",
       "      <td>444.000000</td>\n",
       "    </tr>\n",
       "  </tbody>\n",
       "</table>\n",
       "</div>"
      ],
      "text/plain": [
       "                  mid        date                          venue   bat_team  \\\n",
       "count   350899.000000      350899                         350899     350899   \n",
       "unique            NaN        1042                            136         21   \n",
       "top               NaN  2007-02-04  Shere Bangla National Stadium  Australia   \n",
       "freq              NaN        1233                          23577      44876   \n",
       "mean       594.360426         NaN                            NaN        NaN   \n",
       "std        343.605128         NaN                            NaN        NaN   \n",
       "min          1.000000         NaN                            NaN        NaN   \n",
       "25%        296.000000         NaN                            NaN        NaN   \n",
       "50%        596.000000         NaN                            NaN        NaN   \n",
       "75%        893.000000         NaN                            NaN        NaN   \n",
       "max       1188.000000         NaN                            NaN        NaN   \n",
       "\n",
       "       bowl_team        batsman         bowler           runs        wickets  \\\n",
       "count     350899         350899         350899  350899.000000  350899.000000   \n",
       "unique        21            938            709            NaN            NaN   \n",
       "top        India  KC Sangakkara  Shahid Afridi            NaN            NaN   \n",
       "freq       45141           6822           4780            NaN            NaN   \n",
       "mean         NaN            NaN            NaN     114.801661       2.974970   \n",
       "std          NaN            NaN            NaN      77.665959       2.298959   \n",
       "min          NaN            NaN            NaN       0.000000       0.000000   \n",
       "25%          NaN            NaN            NaN      51.000000       1.000000   \n",
       "50%          NaN            NaN            NaN     105.000000       3.000000   \n",
       "75%          NaN            NaN            NaN     168.000000       4.000000   \n",
       "max          NaN            NaN            NaN     444.000000      10.000000   \n",
       "\n",
       "                overs    runs_last_5  wickets_last_5        striker  \\\n",
       "count   350899.000000  350899.000000   350899.000000  350899.000000   \n",
       "unique            NaN            NaN             NaN            NaN   \n",
       "top               NaN            NaN             NaN            NaN   \n",
       "freq              NaN            NaN             NaN            NaN   \n",
       "mean        24.052899      23.548303        0.669814      35.180129   \n",
       "std         14.235439      11.042974        0.833895      28.115264   \n",
       "min          0.000000       0.000000        0.000000       0.000000   \n",
       "25%         11.600000      17.000000        0.000000      13.000000   \n",
       "50%         23.600000      23.000000        0.000000      29.000000   \n",
       "75%         36.200000      29.000000        1.000000      50.000000   \n",
       "max         49.600000     101.000000        7.000000     264.000000   \n",
       "\n",
       "          non-striker          total  \n",
       "count   350899.000000  350899.000000  \n",
       "unique            NaN            NaN  \n",
       "top               NaN            NaN  \n",
       "freq              NaN            NaN  \n",
       "mean        12.427944     255.355387  \n",
       "std         15.019181      62.354412  \n",
       "min          0.000000      44.000000  \n",
       "25%          2.000000     217.000000  \n",
       "50%          7.000000     257.000000  \n",
       "75%         18.000000     298.000000  \n",
       "max        149.000000     444.000000  "
      ]
     },
     "execution_count": 4,
     "metadata": {},
     "output_type": "execute_result"
    }
   ],
   "source": [
    "data.describe(include='all')"
   ]
  },
  {
   "cell_type": "code",
   "execution_count": 5,
   "metadata": {},
   "outputs": [
    {
     "name": "stdout",
     "output_type": "stream",
     "text": [
      "<class 'pandas.core.frame.DataFrame'>\n",
      "RangeIndex: 350899 entries, 0 to 350898\n",
      "Data columns (total 15 columns):\n",
      " #   Column          Non-Null Count   Dtype  \n",
      "---  ------          --------------   -----  \n",
      " 0   mid             350899 non-null  int64  \n",
      " 1   date            350899 non-null  object \n",
      " 2   venue           350899 non-null  object \n",
      " 3   bat_team        350899 non-null  object \n",
      " 4   bowl_team       350899 non-null  object \n",
      " 5   batsman         350899 non-null  object \n",
      " 6   bowler          350899 non-null  object \n",
      " 7   runs            350899 non-null  int64  \n",
      " 8   wickets         350899 non-null  int64  \n",
      " 9   overs           350899 non-null  float64\n",
      " 10  runs_last_5     350899 non-null  int64  \n",
      " 11  wickets_last_5  350899 non-null  int64  \n",
      " 12  striker         350899 non-null  int64  \n",
      " 13  non-striker     350899 non-null  int64  \n",
      " 14  total           350899 non-null  int64  \n",
      "dtypes: float64(1), int64(8), object(6)\n",
      "memory usage: 40.2+ MB\n"
     ]
    }
   ],
   "source": [
    "data.info()"
   ]
  },
  {
   "cell_type": "code",
   "execution_count": 6,
   "metadata": {},
   "outputs": [],
   "source": [
    "# --- Data Cleaning ---\n",
    "# Removing unwanted columns to make sure the variables which are not needed in generating model are being removed\n",
    "columns_to_remove = ['mid', 'venue', 'batsman', 'bowler', 'striker', 'non-striker']\n",
    "data.drop(labels=columns_to_remove, axis=1, inplace=True)"
   ]
  },
  {
   "cell_type": "code",
   "execution_count": 7,
   "metadata": {},
   "outputs": [
    {
     "data": {
      "text/plain": [
       "array(['England', 'Pakistan', 'Sri Lanka', 'Australia', 'South Africa',\n",
       "       'New Zealand', 'Bangladesh', 'West Indies', 'India', 'Zimbabwe',\n",
       "       'Ireland', 'Scotland', 'Kenya', 'Bermuda', 'Netherlands', 'Canada',\n",
       "       'Asia XI', 'Afghanistan', 'United Arab Emirates', 'Hong Kong',\n",
       "       'Papua New Guinea'], dtype=object)"
      ]
     },
     "execution_count": 7,
     "metadata": {},
     "output_type": "execute_result"
    }
   ],
   "source": [
    "data['bat_team'].unique()"
   ]
  },
  {
   "cell_type": "code",
   "execution_count": 8,
   "metadata": {},
   "outputs": [],
   "source": [
    "# Keeping only consistent teams which are playing against all remaining of consistent teams\n",
    "consistent_teams=['England','India','Pakistan','Sri Lanka','Australia','South Africa','New Zealand','Bangladesh','West Indies',\n",
    "                 'Ireland','Zimbabwe']\n",
    "#Dropping all other teams instead of these consistent teams from both batting and bowling rows\n",
    "data = data[(data['bat_team'].isin(consistent_teams)) & (data['bowl_team'].isin(consistent_teams))]"
   ]
  },
  {
   "cell_type": "code",
   "execution_count": 9,
   "metadata": {},
   "outputs": [
    {
     "data": {
      "text/html": [
       "<div>\n",
       "<style scoped>\n",
       "    .dataframe tbody tr th:only-of-type {\n",
       "        vertical-align: middle;\n",
       "    }\n",
       "\n",
       "    .dataframe tbody tr th {\n",
       "        vertical-align: top;\n",
       "    }\n",
       "\n",
       "    .dataframe thead th {\n",
       "        text-align: right;\n",
       "    }\n",
       "</style>\n",
       "<table border=\"1\" class=\"dataframe\">\n",
       "  <thead>\n",
       "    <tr style=\"text-align: right;\">\n",
       "      <th></th>\n",
       "      <th>date</th>\n",
       "      <th>bat_team</th>\n",
       "      <th>bowl_team</th>\n",
       "      <th>runs</th>\n",
       "      <th>wickets</th>\n",
       "      <th>overs</th>\n",
       "      <th>runs_last_5</th>\n",
       "      <th>wickets_last_5</th>\n",
       "      <th>total</th>\n",
       "    </tr>\n",
       "  </thead>\n",
       "  <tbody>\n",
       "    <tr>\n",
       "      <th>33</th>\n",
       "      <td>2006-06-13</td>\n",
       "      <td>England</td>\n",
       "      <td>Ireland</td>\n",
       "      <td>33</td>\n",
       "      <td>0</td>\n",
       "      <td>5.1</td>\n",
       "      <td>27</td>\n",
       "      <td>0</td>\n",
       "      <td>301</td>\n",
       "    </tr>\n",
       "    <tr>\n",
       "      <th>34</th>\n",
       "      <td>2006-06-13</td>\n",
       "      <td>England</td>\n",
       "      <td>Ireland</td>\n",
       "      <td>33</td>\n",
       "      <td>0</td>\n",
       "      <td>5.2</td>\n",
       "      <td>27</td>\n",
       "      <td>0</td>\n",
       "      <td>301</td>\n",
       "    </tr>\n",
       "    <tr>\n",
       "      <th>35</th>\n",
       "      <td>2006-06-13</td>\n",
       "      <td>England</td>\n",
       "      <td>Ireland</td>\n",
       "      <td>37</td>\n",
       "      <td>0</td>\n",
       "      <td>5.3</td>\n",
       "      <td>31</td>\n",
       "      <td>0</td>\n",
       "      <td>301</td>\n",
       "    </tr>\n",
       "    <tr>\n",
       "      <th>36</th>\n",
       "      <td>2006-06-13</td>\n",
       "      <td>England</td>\n",
       "      <td>Ireland</td>\n",
       "      <td>37</td>\n",
       "      <td>0</td>\n",
       "      <td>5.4</td>\n",
       "      <td>31</td>\n",
       "      <td>0</td>\n",
       "      <td>301</td>\n",
       "    </tr>\n",
       "    <tr>\n",
       "      <th>37</th>\n",
       "      <td>2006-06-13</td>\n",
       "      <td>England</td>\n",
       "      <td>Ireland</td>\n",
       "      <td>37</td>\n",
       "      <td>0</td>\n",
       "      <td>5.5</td>\n",
       "      <td>31</td>\n",
       "      <td>0</td>\n",
       "      <td>301</td>\n",
       "    </tr>\n",
       "  </tbody>\n",
       "</table>\n",
       "</div>"
      ],
      "text/plain": [
       "          date bat_team bowl_team  runs  wickets  overs  runs_last_5  \\\n",
       "33  2006-06-13  England   Ireland    33        0    5.1           27   \n",
       "34  2006-06-13  England   Ireland    33        0    5.2           27   \n",
       "35  2006-06-13  England   Ireland    37        0    5.3           31   \n",
       "36  2006-06-13  England   Ireland    37        0    5.4           31   \n",
       "37  2006-06-13  England   Ireland    37        0    5.5           31   \n",
       "\n",
       "    wickets_last_5  total  \n",
       "33               0    301  \n",
       "34               0    301  \n",
       "35               0    301  \n",
       "36               0    301  \n",
       "37               0    301  "
      ]
     },
     "execution_count": 9,
     "metadata": {},
     "output_type": "execute_result"
    }
   ],
   "source": [
    "#Removing the first 5 overs data in every match to avoid the false prediction\n",
    "# We cant predict the score by seeing the score in 5 overs we need \n",
    "# atleast 5+ overs to estimate considering real world situation\n",
    "data = data[data['overs']>=5.0]\n",
    "data.head()"
   ]
  },
  {
   "cell_type": "code",
   "execution_count": 10,
   "metadata": {},
   "outputs": [],
   "source": [
    "# Converting the column 'date' from string into datetime object\n",
    "from datetime import datetime\n",
    "data['date'] = data['date'].apply(lambda x: datetime.strptime(x, '%Y-%m-%d'))"
   ]
  },
  {
   "cell_type": "code",
   "execution_count": 11,
   "metadata": {},
   "outputs": [],
   "source": [
    "# --- Data Preprocessing ---\n",
    "# Converting categorical features using OneHotEncoding method\n",
    "encoded_data = pd.get_dummies(data=data, columns=['bat_team', 'bowl_team'])\n",
    "# Here we cannot apply teams directly so instead i hard coded all the teams in dataset\n",
    "# 1 if it is batting or bowling or else 0"
   ]
  },
  {
   "cell_type": "code",
   "execution_count": 12,
   "metadata": {},
   "outputs": [
    {
     "data": {
      "text/html": [
       "<div>\n",
       "<style scoped>\n",
       "    .dataframe tbody tr th:only-of-type {\n",
       "        vertical-align: middle;\n",
       "    }\n",
       "\n",
       "    .dataframe tbody tr th {\n",
       "        vertical-align: top;\n",
       "    }\n",
       "\n",
       "    .dataframe thead th {\n",
       "        text-align: right;\n",
       "    }\n",
       "</style>\n",
       "<table border=\"1\" class=\"dataframe\">\n",
       "  <thead>\n",
       "    <tr style=\"text-align: right;\">\n",
       "      <th></th>\n",
       "      <th>date</th>\n",
       "      <th>runs</th>\n",
       "      <th>wickets</th>\n",
       "      <th>overs</th>\n",
       "      <th>runs_last_5</th>\n",
       "      <th>wickets_last_5</th>\n",
       "      <th>total</th>\n",
       "      <th>bat_team_Australia</th>\n",
       "      <th>bat_team_Bangladesh</th>\n",
       "      <th>bat_team_England</th>\n",
       "      <th>...</th>\n",
       "      <th>bowl_team_Bangladesh</th>\n",
       "      <th>bowl_team_England</th>\n",
       "      <th>bowl_team_India</th>\n",
       "      <th>bowl_team_Ireland</th>\n",
       "      <th>bowl_team_New Zealand</th>\n",
       "      <th>bowl_team_Pakistan</th>\n",
       "      <th>bowl_team_South Africa</th>\n",
       "      <th>bowl_team_Sri Lanka</th>\n",
       "      <th>bowl_team_West Indies</th>\n",
       "      <th>bowl_team_Zimbabwe</th>\n",
       "    </tr>\n",
       "  </thead>\n",
       "  <tbody>\n",
       "    <tr>\n",
       "      <th>33</th>\n",
       "      <td>2006-06-13</td>\n",
       "      <td>33</td>\n",
       "      <td>0</td>\n",
       "      <td>5.1</td>\n",
       "      <td>27</td>\n",
       "      <td>0</td>\n",
       "      <td>301</td>\n",
       "      <td>0</td>\n",
       "      <td>0</td>\n",
       "      <td>1</td>\n",
       "      <td>...</td>\n",
       "      <td>0</td>\n",
       "      <td>0</td>\n",
       "      <td>0</td>\n",
       "      <td>1</td>\n",
       "      <td>0</td>\n",
       "      <td>0</td>\n",
       "      <td>0</td>\n",
       "      <td>0</td>\n",
       "      <td>0</td>\n",
       "      <td>0</td>\n",
       "    </tr>\n",
       "    <tr>\n",
       "      <th>34</th>\n",
       "      <td>2006-06-13</td>\n",
       "      <td>33</td>\n",
       "      <td>0</td>\n",
       "      <td>5.2</td>\n",
       "      <td>27</td>\n",
       "      <td>0</td>\n",
       "      <td>301</td>\n",
       "      <td>0</td>\n",
       "      <td>0</td>\n",
       "      <td>1</td>\n",
       "      <td>...</td>\n",
       "      <td>0</td>\n",
       "      <td>0</td>\n",
       "      <td>0</td>\n",
       "      <td>1</td>\n",
       "      <td>0</td>\n",
       "      <td>0</td>\n",
       "      <td>0</td>\n",
       "      <td>0</td>\n",
       "      <td>0</td>\n",
       "      <td>0</td>\n",
       "    </tr>\n",
       "    <tr>\n",
       "      <th>35</th>\n",
       "      <td>2006-06-13</td>\n",
       "      <td>37</td>\n",
       "      <td>0</td>\n",
       "      <td>5.3</td>\n",
       "      <td>31</td>\n",
       "      <td>0</td>\n",
       "      <td>301</td>\n",
       "      <td>0</td>\n",
       "      <td>0</td>\n",
       "      <td>1</td>\n",
       "      <td>...</td>\n",
       "      <td>0</td>\n",
       "      <td>0</td>\n",
       "      <td>0</td>\n",
       "      <td>1</td>\n",
       "      <td>0</td>\n",
       "      <td>0</td>\n",
       "      <td>0</td>\n",
       "      <td>0</td>\n",
       "      <td>0</td>\n",
       "      <td>0</td>\n",
       "    </tr>\n",
       "    <tr>\n",
       "      <th>36</th>\n",
       "      <td>2006-06-13</td>\n",
       "      <td>37</td>\n",
       "      <td>0</td>\n",
       "      <td>5.4</td>\n",
       "      <td>31</td>\n",
       "      <td>0</td>\n",
       "      <td>301</td>\n",
       "      <td>0</td>\n",
       "      <td>0</td>\n",
       "      <td>1</td>\n",
       "      <td>...</td>\n",
       "      <td>0</td>\n",
       "      <td>0</td>\n",
       "      <td>0</td>\n",
       "      <td>1</td>\n",
       "      <td>0</td>\n",
       "      <td>0</td>\n",
       "      <td>0</td>\n",
       "      <td>0</td>\n",
       "      <td>0</td>\n",
       "      <td>0</td>\n",
       "    </tr>\n",
       "    <tr>\n",
       "      <th>37</th>\n",
       "      <td>2006-06-13</td>\n",
       "      <td>37</td>\n",
       "      <td>0</td>\n",
       "      <td>5.5</td>\n",
       "      <td>31</td>\n",
       "      <td>0</td>\n",
       "      <td>301</td>\n",
       "      <td>0</td>\n",
       "      <td>0</td>\n",
       "      <td>1</td>\n",
       "      <td>...</td>\n",
       "      <td>0</td>\n",
       "      <td>0</td>\n",
       "      <td>0</td>\n",
       "      <td>1</td>\n",
       "      <td>0</td>\n",
       "      <td>0</td>\n",
       "      <td>0</td>\n",
       "      <td>0</td>\n",
       "      <td>0</td>\n",
       "      <td>0</td>\n",
       "    </tr>\n",
       "  </tbody>\n",
       "</table>\n",
       "<p>5 rows × 29 columns</p>\n",
       "</div>"
      ],
      "text/plain": [
       "         date  runs  wickets  overs  runs_last_5  wickets_last_5  total  \\\n",
       "33 2006-06-13    33        0    5.1           27               0    301   \n",
       "34 2006-06-13    33        0    5.2           27               0    301   \n",
       "35 2006-06-13    37        0    5.3           31               0    301   \n",
       "36 2006-06-13    37        0    5.4           31               0    301   \n",
       "37 2006-06-13    37        0    5.5           31               0    301   \n",
       "\n",
       "    bat_team_Australia  bat_team_Bangladesh  bat_team_England  ...  \\\n",
       "33                   0                    0                 1  ...   \n",
       "34                   0                    0                 1  ...   \n",
       "35                   0                    0                 1  ...   \n",
       "36                   0                    0                 1  ...   \n",
       "37                   0                    0                 1  ...   \n",
       "\n",
       "    bowl_team_Bangladesh  bowl_team_England  bowl_team_India  \\\n",
       "33                     0                  0                0   \n",
       "34                     0                  0                0   \n",
       "35                     0                  0                0   \n",
       "36                     0                  0                0   \n",
       "37                     0                  0                0   \n",
       "\n",
       "    bowl_team_Ireland  bowl_team_New Zealand  bowl_team_Pakistan  \\\n",
       "33                  1                      0                   0   \n",
       "34                  1                      0                   0   \n",
       "35                  1                      0                   0   \n",
       "36                  1                      0                   0   \n",
       "37                  1                      0                   0   \n",
       "\n",
       "    bowl_team_South Africa  bowl_team_Sri Lanka  bowl_team_West Indies  \\\n",
       "33                       0                    0                      0   \n",
       "34                       0                    0                      0   \n",
       "35                       0                    0                      0   \n",
       "36                       0                    0                      0   \n",
       "37                       0                    0                      0   \n",
       "\n",
       "    bowl_team_Zimbabwe  \n",
       "33                   0  \n",
       "34                   0  \n",
       "35                   0  \n",
       "36                   0  \n",
       "37                   0  \n",
       "\n",
       "[5 rows x 29 columns]"
      ]
     },
     "execution_count": 12,
     "metadata": {},
     "output_type": "execute_result"
    }
   ],
   "source": [
    "encoded_data.head()"
   ]
  },
  {
   "cell_type": "code",
   "execution_count": 13,
   "metadata": {},
   "outputs": [
    {
     "data": {
      "text/plain": [
       "Index(['date', 'runs', 'wickets', 'overs', 'runs_last_5', 'wickets_last_5',\n",
       "       'total', 'bat_team_Australia', 'bat_team_Bangladesh',\n",
       "       'bat_team_England', 'bat_team_India', 'bat_team_Ireland',\n",
       "       'bat_team_New Zealand', 'bat_team_Pakistan', 'bat_team_South Africa',\n",
       "       'bat_team_Sri Lanka', 'bat_team_West Indies', 'bat_team_Zimbabwe',\n",
       "       'bowl_team_Australia', 'bowl_team_Bangladesh', 'bowl_team_England',\n",
       "       'bowl_team_India', 'bowl_team_Ireland', 'bowl_team_New Zealand',\n",
       "       'bowl_team_Pakistan', 'bowl_team_South Africa', 'bowl_team_Sri Lanka',\n",
       "       'bowl_team_West Indies', 'bowl_team_Zimbabwe'],\n",
       "      dtype='object')"
      ]
     },
     "execution_count": 13,
     "metadata": {},
     "output_type": "execute_result"
    }
   ],
   "source": [
    "encoded_data.columns"
   ]
  },
  {
   "cell_type": "code",
   "execution_count": 14,
   "metadata": {},
   "outputs": [
    {
     "data": {
      "text/html": [
       "<div>\n",
       "<style scoped>\n",
       "    .dataframe tbody tr th:only-of-type {\n",
       "        vertical-align: middle;\n",
       "    }\n",
       "\n",
       "    .dataframe tbody tr th {\n",
       "        vertical-align: top;\n",
       "    }\n",
       "\n",
       "    .dataframe thead th {\n",
       "        text-align: right;\n",
       "    }\n",
       "</style>\n",
       "<table border=\"1\" class=\"dataframe\">\n",
       "  <thead>\n",
       "    <tr style=\"text-align: right;\">\n",
       "      <th></th>\n",
       "      <th>date</th>\n",
       "      <th>bat_team_Australia</th>\n",
       "      <th>bat_team_Bangladesh</th>\n",
       "      <th>bat_team_England</th>\n",
       "      <th>bat_team_India</th>\n",
       "      <th>bat_team_Ireland</th>\n",
       "      <th>bat_team_New Zealand</th>\n",
       "      <th>bat_team_Pakistan</th>\n",
       "      <th>bat_team_South Africa</th>\n",
       "      <th>bat_team_Sri Lanka</th>\n",
       "      <th>...</th>\n",
       "      <th>bowl_team_South Africa</th>\n",
       "      <th>bowl_team_Sri Lanka</th>\n",
       "      <th>bowl_team_West Indies</th>\n",
       "      <th>bowl_team_Zimbabwe</th>\n",
       "      <th>overs</th>\n",
       "      <th>runs</th>\n",
       "      <th>wickets</th>\n",
       "      <th>runs_last_5</th>\n",
       "      <th>wickets_last_5</th>\n",
       "      <th>total</th>\n",
       "    </tr>\n",
       "  </thead>\n",
       "  <tbody>\n",
       "    <tr>\n",
       "      <th>33</th>\n",
       "      <td>2006-06-13</td>\n",
       "      <td>0</td>\n",
       "      <td>0</td>\n",
       "      <td>1</td>\n",
       "      <td>0</td>\n",
       "      <td>0</td>\n",
       "      <td>0</td>\n",
       "      <td>0</td>\n",
       "      <td>0</td>\n",
       "      <td>0</td>\n",
       "      <td>...</td>\n",
       "      <td>0</td>\n",
       "      <td>0</td>\n",
       "      <td>0</td>\n",
       "      <td>0</td>\n",
       "      <td>5.1</td>\n",
       "      <td>33</td>\n",
       "      <td>0</td>\n",
       "      <td>27</td>\n",
       "      <td>0</td>\n",
       "      <td>301</td>\n",
       "    </tr>\n",
       "    <tr>\n",
       "      <th>34</th>\n",
       "      <td>2006-06-13</td>\n",
       "      <td>0</td>\n",
       "      <td>0</td>\n",
       "      <td>1</td>\n",
       "      <td>0</td>\n",
       "      <td>0</td>\n",
       "      <td>0</td>\n",
       "      <td>0</td>\n",
       "      <td>0</td>\n",
       "      <td>0</td>\n",
       "      <td>...</td>\n",
       "      <td>0</td>\n",
       "      <td>0</td>\n",
       "      <td>0</td>\n",
       "      <td>0</td>\n",
       "      <td>5.2</td>\n",
       "      <td>33</td>\n",
       "      <td>0</td>\n",
       "      <td>27</td>\n",
       "      <td>0</td>\n",
       "      <td>301</td>\n",
       "    </tr>\n",
       "    <tr>\n",
       "      <th>35</th>\n",
       "      <td>2006-06-13</td>\n",
       "      <td>0</td>\n",
       "      <td>0</td>\n",
       "      <td>1</td>\n",
       "      <td>0</td>\n",
       "      <td>0</td>\n",
       "      <td>0</td>\n",
       "      <td>0</td>\n",
       "      <td>0</td>\n",
       "      <td>0</td>\n",
       "      <td>...</td>\n",
       "      <td>0</td>\n",
       "      <td>0</td>\n",
       "      <td>0</td>\n",
       "      <td>0</td>\n",
       "      <td>5.3</td>\n",
       "      <td>37</td>\n",
       "      <td>0</td>\n",
       "      <td>31</td>\n",
       "      <td>0</td>\n",
       "      <td>301</td>\n",
       "    </tr>\n",
       "    <tr>\n",
       "      <th>36</th>\n",
       "      <td>2006-06-13</td>\n",
       "      <td>0</td>\n",
       "      <td>0</td>\n",
       "      <td>1</td>\n",
       "      <td>0</td>\n",
       "      <td>0</td>\n",
       "      <td>0</td>\n",
       "      <td>0</td>\n",
       "      <td>0</td>\n",
       "      <td>0</td>\n",
       "      <td>...</td>\n",
       "      <td>0</td>\n",
       "      <td>0</td>\n",
       "      <td>0</td>\n",
       "      <td>0</td>\n",
       "      <td>5.4</td>\n",
       "      <td>37</td>\n",
       "      <td>0</td>\n",
       "      <td>31</td>\n",
       "      <td>0</td>\n",
       "      <td>301</td>\n",
       "    </tr>\n",
       "    <tr>\n",
       "      <th>37</th>\n",
       "      <td>2006-06-13</td>\n",
       "      <td>0</td>\n",
       "      <td>0</td>\n",
       "      <td>1</td>\n",
       "      <td>0</td>\n",
       "      <td>0</td>\n",
       "      <td>0</td>\n",
       "      <td>0</td>\n",
       "      <td>0</td>\n",
       "      <td>0</td>\n",
       "      <td>...</td>\n",
       "      <td>0</td>\n",
       "      <td>0</td>\n",
       "      <td>0</td>\n",
       "      <td>0</td>\n",
       "      <td>5.5</td>\n",
       "      <td>37</td>\n",
       "      <td>0</td>\n",
       "      <td>31</td>\n",
       "      <td>0</td>\n",
       "      <td>301</td>\n",
       "    </tr>\n",
       "  </tbody>\n",
       "</table>\n",
       "<p>5 rows × 29 columns</p>\n",
       "</div>"
      ],
      "text/plain": [
       "         date  bat_team_Australia  bat_team_Bangladesh  bat_team_England  \\\n",
       "33 2006-06-13                   0                    0                 1   \n",
       "34 2006-06-13                   0                    0                 1   \n",
       "35 2006-06-13                   0                    0                 1   \n",
       "36 2006-06-13                   0                    0                 1   \n",
       "37 2006-06-13                   0                    0                 1   \n",
       "\n",
       "    bat_team_India  bat_team_Ireland  bat_team_New Zealand  bat_team_Pakistan  \\\n",
       "33               0                 0                     0                  0   \n",
       "34               0                 0                     0                  0   \n",
       "35               0                 0                     0                  0   \n",
       "36               0                 0                     0                  0   \n",
       "37               0                 0                     0                  0   \n",
       "\n",
       "    bat_team_South Africa  bat_team_Sri Lanka  ...  bowl_team_South Africa  \\\n",
       "33                      0                   0  ...                       0   \n",
       "34                      0                   0  ...                       0   \n",
       "35                      0                   0  ...                       0   \n",
       "36                      0                   0  ...                       0   \n",
       "37                      0                   0  ...                       0   \n",
       "\n",
       "    bowl_team_Sri Lanka  bowl_team_West Indies  bowl_team_Zimbabwe  overs  \\\n",
       "33                    0                      0                   0    5.1   \n",
       "34                    0                      0                   0    5.2   \n",
       "35                    0                      0                   0    5.3   \n",
       "36                    0                      0                   0    5.4   \n",
       "37                    0                      0                   0    5.5   \n",
       "\n",
       "    runs  wickets  runs_last_5  wickets_last_5  total  \n",
       "33    33        0           27               0    301  \n",
       "34    33        0           27               0    301  \n",
       "35    37        0           31               0    301  \n",
       "36    37        0           31               0    301  \n",
       "37    37        0           31               0    301  \n",
       "\n",
       "[5 rows x 29 columns]"
      ]
     },
     "execution_count": 14,
     "metadata": {},
     "output_type": "execute_result"
    }
   ],
   "source": [
    "# Rearranging the columns so target value will be at last\n",
    "encoded_data=encoded_data[['date','bat_team_Australia', 'bat_team_Bangladesh',\n",
    "       'bat_team_England', 'bat_team_India', 'bat_team_Ireland',\n",
    "       'bat_team_New Zealand', 'bat_team_Pakistan', 'bat_team_South Africa',\n",
    "       'bat_team_Sri Lanka', 'bat_team_West Indies', 'bat_team_Zimbabwe',\n",
    "       'bowl_team_Australia', 'bowl_team_Bangladesh', 'bowl_team_England',\n",
    "       'bowl_team_India', 'bowl_team_Ireland', 'bowl_team_New Zealand',\n",
    "       'bowl_team_Pakistan', 'bowl_team_South Africa', 'bowl_team_Sri Lanka',\n",
    "       'bowl_team_West Indies', 'bowl_team_Zimbabwe','overs','runs','wickets' ,'runs_last_5', 'wickets_last_5',\n",
    "       'total',]]\n",
    "encoded_data.head()"
   ]
  },
  {
   "cell_type": "code",
   "execution_count": 15,
   "metadata": {},
   "outputs": [
    {
     "data": {
      "text/plain": [
       "(275294, 29)"
      ]
     },
     "execution_count": 15,
     "metadata": {},
     "output_type": "execute_result"
    }
   ],
   "source": [
    "encoded_data.shape"
   ]
  },
  {
   "cell_type": "code",
   "execution_count": 16,
   "metadata": {},
   "outputs": [
    {
     "data": {
      "text/plain": [
       "Index(['date', 'bat_team_Australia', 'bat_team_Bangladesh', 'bat_team_England',\n",
       "       'bat_team_India', 'bat_team_Ireland', 'bat_team_New Zealand',\n",
       "       'bat_team_Pakistan', 'bat_team_South Africa', 'bat_team_Sri Lanka',\n",
       "       'bat_team_West Indies', 'bat_team_Zimbabwe', 'bowl_team_Australia',\n",
       "       'bowl_team_Bangladesh', 'bowl_team_England', 'bowl_team_India',\n",
       "       'bowl_team_Ireland', 'bowl_team_New Zealand', 'bowl_team_Pakistan',\n",
       "       'bowl_team_South Africa', 'bowl_team_Sri Lanka',\n",
       "       'bowl_team_West Indies', 'bowl_team_Zimbabwe', 'overs', 'runs',\n",
       "       'wickets', 'runs_last_5', 'wickets_last_5', 'total'],\n",
       "      dtype='object')"
      ]
     },
     "execution_count": 16,
     "metadata": {},
     "output_type": "execute_result"
    }
   ],
   "source": [
    "encoded_data.columns"
   ]
  },
  {
   "cell_type": "code",
   "execution_count": 17,
   "metadata": {},
   "outputs": [
    {
     "data": {
      "text/html": [
       "<div>\n",
       "<style scoped>\n",
       "    .dataframe tbody tr th:only-of-type {\n",
       "        vertical-align: middle;\n",
       "    }\n",
       "\n",
       "    .dataframe tbody tr th {\n",
       "        vertical-align: top;\n",
       "    }\n",
       "\n",
       "    .dataframe thead th {\n",
       "        text-align: right;\n",
       "    }\n",
       "</style>\n",
       "<table border=\"1\" class=\"dataframe\">\n",
       "  <thead>\n",
       "    <tr style=\"text-align: right;\">\n",
       "      <th></th>\n",
       "      <th>bat_team_Australia</th>\n",
       "      <th>bat_team_Bangladesh</th>\n",
       "      <th>bat_team_England</th>\n",
       "      <th>bat_team_India</th>\n",
       "      <th>bat_team_Ireland</th>\n",
       "      <th>bat_team_New Zealand</th>\n",
       "      <th>bat_team_Pakistan</th>\n",
       "      <th>bat_team_South Africa</th>\n",
       "      <th>bat_team_Sri Lanka</th>\n",
       "      <th>bat_team_West Indies</th>\n",
       "      <th>...</th>\n",
       "      <th>bowl_team_South Africa</th>\n",
       "      <th>bowl_team_Sri Lanka</th>\n",
       "      <th>bowl_team_West Indies</th>\n",
       "      <th>bowl_team_Zimbabwe</th>\n",
       "      <th>overs</th>\n",
       "      <th>runs</th>\n",
       "      <th>wickets</th>\n",
       "      <th>runs_last_5</th>\n",
       "      <th>wickets_last_5</th>\n",
       "      <th>total</th>\n",
       "    </tr>\n",
       "  </thead>\n",
       "  <tbody>\n",
       "    <tr>\n",
       "      <th>count</th>\n",
       "      <td>275294.000000</td>\n",
       "      <td>275294.000000</td>\n",
       "      <td>275294.000000</td>\n",
       "      <td>275294.000000</td>\n",
       "      <td>275294.000000</td>\n",
       "      <td>275294.000000</td>\n",
       "      <td>275294.000000</td>\n",
       "      <td>275294.000000</td>\n",
       "      <td>275294.000000</td>\n",
       "      <td>275294.000000</td>\n",
       "      <td>...</td>\n",
       "      <td>275294.000000</td>\n",
       "      <td>275294.000000</td>\n",
       "      <td>275294.000000</td>\n",
       "      <td>275294.000000</td>\n",
       "      <td>275294.000000</td>\n",
       "      <td>275294.000000</td>\n",
       "      <td>275294.000000</td>\n",
       "      <td>275294.000000</td>\n",
       "      <td>275294.000000</td>\n",
       "      <td>275294.000000</td>\n",
       "    </tr>\n",
       "    <tr>\n",
       "      <th>mean</th>\n",
       "      <td>0.141104</td>\n",
       "      <td>0.072628</td>\n",
       "      <td>0.102549</td>\n",
       "      <td>0.106595</td>\n",
       "      <td>0.014563</td>\n",
       "      <td>0.094946</td>\n",
       "      <td>0.097205</td>\n",
       "      <td>0.100111</td>\n",
       "      <td>0.133868</td>\n",
       "      <td>0.076511</td>\n",
       "      <td>...</td>\n",
       "      <td>0.096391</td>\n",
       "      <td>0.103486</td>\n",
       "      <td>0.093762</td>\n",
       "      <td>0.069860</td>\n",
       "      <td>26.678321</td>\n",
       "      <td>128.038323</td>\n",
       "      <td>3.242871</td>\n",
       "      <td>25.258378</td>\n",
       "      <td>0.700295</td>\n",
       "      <td>257.462204</td>\n",
       "    </tr>\n",
       "    <tr>\n",
       "      <th>std</th>\n",
       "      <td>0.348129</td>\n",
       "      <td>0.259525</td>\n",
       "      <td>0.303369</td>\n",
       "      <td>0.308598</td>\n",
       "      <td>0.119794</td>\n",
       "      <td>0.293141</td>\n",
       "      <td>0.296237</td>\n",
       "      <td>0.300149</td>\n",
       "      <td>0.340511</td>\n",
       "      <td>0.265814</td>\n",
       "      <td>...</td>\n",
       "      <td>0.295128</td>\n",
       "      <td>0.304593</td>\n",
       "      <td>0.291497</td>\n",
       "      <td>0.254911</td>\n",
       "      <td>12.807562</td>\n",
       "      <td>72.912628</td>\n",
       "      <td>2.202782</td>\n",
       "      <td>10.182482</td>\n",
       "      <td>0.843690</td>\n",
       "      <td>60.760895</td>\n",
       "    </tr>\n",
       "    <tr>\n",
       "      <th>min</th>\n",
       "      <td>0.000000</td>\n",
       "      <td>0.000000</td>\n",
       "      <td>0.000000</td>\n",
       "      <td>0.000000</td>\n",
       "      <td>0.000000</td>\n",
       "      <td>0.000000</td>\n",
       "      <td>0.000000</td>\n",
       "      <td>0.000000</td>\n",
       "      <td>0.000000</td>\n",
       "      <td>0.000000</td>\n",
       "      <td>...</td>\n",
       "      <td>0.000000</td>\n",
       "      <td>0.000000</td>\n",
       "      <td>0.000000</td>\n",
       "      <td>0.000000</td>\n",
       "      <td>5.000000</td>\n",
       "      <td>2.000000</td>\n",
       "      <td>0.000000</td>\n",
       "      <td>0.000000</td>\n",
       "      <td>0.000000</td>\n",
       "      <td>44.000000</td>\n",
       "    </tr>\n",
       "    <tr>\n",
       "      <th>25%</th>\n",
       "      <td>0.000000</td>\n",
       "      <td>0.000000</td>\n",
       "      <td>0.000000</td>\n",
       "      <td>0.000000</td>\n",
       "      <td>0.000000</td>\n",
       "      <td>0.000000</td>\n",
       "      <td>0.000000</td>\n",
       "      <td>0.000000</td>\n",
       "      <td>0.000000</td>\n",
       "      <td>0.000000</td>\n",
       "      <td>...</td>\n",
       "      <td>0.000000</td>\n",
       "      <td>0.000000</td>\n",
       "      <td>0.000000</td>\n",
       "      <td>0.000000</td>\n",
       "      <td>15.500000</td>\n",
       "      <td>69.000000</td>\n",
       "      <td>2.000000</td>\n",
       "      <td>18.000000</td>\n",
       "      <td>0.000000</td>\n",
       "      <td>220.000000</td>\n",
       "    </tr>\n",
       "    <tr>\n",
       "      <th>50%</th>\n",
       "      <td>0.000000</td>\n",
       "      <td>0.000000</td>\n",
       "      <td>0.000000</td>\n",
       "      <td>0.000000</td>\n",
       "      <td>0.000000</td>\n",
       "      <td>0.000000</td>\n",
       "      <td>0.000000</td>\n",
       "      <td>0.000000</td>\n",
       "      <td>0.000000</td>\n",
       "      <td>0.000000</td>\n",
       "      <td>...</td>\n",
       "      <td>0.000000</td>\n",
       "      <td>0.000000</td>\n",
       "      <td>0.000000</td>\n",
       "      <td>0.000000</td>\n",
       "      <td>26.400000</td>\n",
       "      <td>118.000000</td>\n",
       "      <td>3.000000</td>\n",
       "      <td>24.000000</td>\n",
       "      <td>1.000000</td>\n",
       "      <td>259.000000</td>\n",
       "    </tr>\n",
       "    <tr>\n",
       "      <th>75%</th>\n",
       "      <td>0.000000</td>\n",
       "      <td>0.000000</td>\n",
       "      <td>0.000000</td>\n",
       "      <td>0.000000</td>\n",
       "      <td>0.000000</td>\n",
       "      <td>0.000000</td>\n",
       "      <td>0.000000</td>\n",
       "      <td>0.000000</td>\n",
       "      <td>0.000000</td>\n",
       "      <td>0.000000</td>\n",
       "      <td>...</td>\n",
       "      <td>0.000000</td>\n",
       "      <td>0.000000</td>\n",
       "      <td>0.000000</td>\n",
       "      <td>0.000000</td>\n",
       "      <td>37.500000</td>\n",
       "      <td>178.000000</td>\n",
       "      <td>5.000000</td>\n",
       "      <td>30.000000</td>\n",
       "      <td>1.000000</td>\n",
       "      <td>299.000000</td>\n",
       "    </tr>\n",
       "    <tr>\n",
       "      <th>max</th>\n",
       "      <td>1.000000</td>\n",
       "      <td>1.000000</td>\n",
       "      <td>1.000000</td>\n",
       "      <td>1.000000</td>\n",
       "      <td>1.000000</td>\n",
       "      <td>1.000000</td>\n",
       "      <td>1.000000</td>\n",
       "      <td>1.000000</td>\n",
       "      <td>1.000000</td>\n",
       "      <td>1.000000</td>\n",
       "      <td>...</td>\n",
       "      <td>1.000000</td>\n",
       "      <td>1.000000</td>\n",
       "      <td>1.000000</td>\n",
       "      <td>1.000000</td>\n",
       "      <td>49.600000</td>\n",
       "      <td>444.000000</td>\n",
       "      <td>10.000000</td>\n",
       "      <td>101.000000</td>\n",
       "      <td>7.000000</td>\n",
       "      <td>444.000000</td>\n",
       "    </tr>\n",
       "  </tbody>\n",
       "</table>\n",
       "<p>8 rows × 28 columns</p>\n",
       "</div>"
      ],
      "text/plain": [
       "       bat_team_Australia  bat_team_Bangladesh  bat_team_England  \\\n",
       "count       275294.000000        275294.000000     275294.000000   \n",
       "mean             0.141104             0.072628          0.102549   \n",
       "std              0.348129             0.259525          0.303369   \n",
       "min              0.000000             0.000000          0.000000   \n",
       "25%              0.000000             0.000000          0.000000   \n",
       "50%              0.000000             0.000000          0.000000   \n",
       "75%              0.000000             0.000000          0.000000   \n",
       "max              1.000000             1.000000          1.000000   \n",
       "\n",
       "       bat_team_India  bat_team_Ireland  bat_team_New Zealand  \\\n",
       "count   275294.000000     275294.000000         275294.000000   \n",
       "mean         0.106595          0.014563              0.094946   \n",
       "std          0.308598          0.119794              0.293141   \n",
       "min          0.000000          0.000000              0.000000   \n",
       "25%          0.000000          0.000000              0.000000   \n",
       "50%          0.000000          0.000000              0.000000   \n",
       "75%          0.000000          0.000000              0.000000   \n",
       "max          1.000000          1.000000              1.000000   \n",
       "\n",
       "       bat_team_Pakistan  bat_team_South Africa  bat_team_Sri Lanka  \\\n",
       "count      275294.000000          275294.000000       275294.000000   \n",
       "mean            0.097205               0.100111            0.133868   \n",
       "std             0.296237               0.300149            0.340511   \n",
       "min             0.000000               0.000000            0.000000   \n",
       "25%             0.000000               0.000000            0.000000   \n",
       "50%             0.000000               0.000000            0.000000   \n",
       "75%             0.000000               0.000000            0.000000   \n",
       "max             1.000000               1.000000            1.000000   \n",
       "\n",
       "       bat_team_West Indies  ...  bowl_team_South Africa  bowl_team_Sri Lanka  \\\n",
       "count         275294.000000  ...           275294.000000        275294.000000   \n",
       "mean               0.076511  ...                0.096391             0.103486   \n",
       "std                0.265814  ...                0.295128             0.304593   \n",
       "min                0.000000  ...                0.000000             0.000000   \n",
       "25%                0.000000  ...                0.000000             0.000000   \n",
       "50%                0.000000  ...                0.000000             0.000000   \n",
       "75%                0.000000  ...                0.000000             0.000000   \n",
       "max                1.000000  ...                1.000000             1.000000   \n",
       "\n",
       "       bowl_team_West Indies  bowl_team_Zimbabwe          overs  \\\n",
       "count          275294.000000       275294.000000  275294.000000   \n",
       "mean                0.093762            0.069860      26.678321   \n",
       "std                 0.291497            0.254911      12.807562   \n",
       "min                 0.000000            0.000000       5.000000   \n",
       "25%                 0.000000            0.000000      15.500000   \n",
       "50%                 0.000000            0.000000      26.400000   \n",
       "75%                 0.000000            0.000000      37.500000   \n",
       "max                 1.000000            1.000000      49.600000   \n",
       "\n",
       "                runs        wickets    runs_last_5  wickets_last_5  \\\n",
       "count  275294.000000  275294.000000  275294.000000   275294.000000   \n",
       "mean      128.038323       3.242871      25.258378        0.700295   \n",
       "std        72.912628       2.202782      10.182482        0.843690   \n",
       "min         2.000000       0.000000       0.000000        0.000000   \n",
       "25%        69.000000       2.000000      18.000000        0.000000   \n",
       "50%       118.000000       3.000000      24.000000        1.000000   \n",
       "75%       178.000000       5.000000      30.000000        1.000000   \n",
       "max       444.000000      10.000000     101.000000        7.000000   \n",
       "\n",
       "               total  \n",
       "count  275294.000000  \n",
       "mean      257.462204  \n",
       "std        60.760895  \n",
       "min        44.000000  \n",
       "25%       220.000000  \n",
       "50%       259.000000  \n",
       "75%       299.000000  \n",
       "max       444.000000  \n",
       "\n",
       "[8 rows x 28 columns]"
      ]
     },
     "execution_count": 17,
     "metadata": {},
     "output_type": "execute_result"
    }
   ],
   "source": [
    "encoded_data.describe()"
   ]
  },
  {
   "cell_type": "markdown",
   "metadata": {},
   "source": [
    "## Visualization"
   ]
  },
  {
   "cell_type": "code",
   "execution_count": 18,
   "metadata": {},
   "outputs": [
    {
     "data": {
      "image/png": "[encoded data removed]",
      "text/plain": [
       "<Figure size 432x288 with 1 Axes>"
      ]
     },
     "metadata": {
      "needs_background": "light"
     },
     "output_type": "display_data"
    }
   ],
   "source": [
    "import matplotlib.pyplot as plt\n",
    "import seaborn as sns\n",
    "plt.plot(encoded_data.overs,encoded_data.runs)\n",
    "plt.show()"
   ]
  },
  {
   "cell_type": "code",
   "execution_count": 19,
   "metadata": {},
   "outputs": [
    {
     "data": {
      "text/plain": [
       "Text(0.5, 1.0, 'Total score distribution plot')"
      ]
     },
     "execution_count": 19,
     "metadata": {},
     "output_type": "execute_result"
    },
    {
     "data": {
      "image/png": "[encoded data removed]",
      "text/plain": [
       "<Figure size 792x360 with 1 Axes>"
      ]
     },
     "metadata": {
      "needs_background": "light"
     },
     "output_type": "display_data"
    }
   ],
   "source": [
    "import warnings\n",
    "warnings.simplefilter(action='ignore', category=FutureWarning)\n",
    "#This makes it very easy to spot anamolies,such as outliers\n",
    "plt.figure(figsize=[11,5])\n",
    "sns.distplot(encoded_data['total'])\n",
    "plt.title('Total score distribution plot')"
   ]
  },
  {
   "cell_type": "code",
   "execution_count": 20,
   "metadata": {},
   "outputs": [
    {
     "data": {
      "image/png": "[encoded data removed]",
      "text/plain": [
       "<Figure size 432x288 with 1 Axes>"
      ]
     },
     "metadata": {
      "needs_background": "light"
     },
     "output_type": "display_data"
    }
   ],
   "source": [
    "plt.scatter(encoded_data.wickets_last_5,encoded_data.runs_last_5)\n",
    "plt.show()"
   ]
  },
  {
   "cell_type": "code",
   "execution_count": 21,
   "metadata": {},
   "outputs": [
    {
     "data": {
      "text/plain": [
       "{'whiskers': [<matplotlib.lines.Line2D at 0x1d9c864f130>,\n",
       "  <matplotlib.lines.Line2D at 0x1d9c864f490>],\n",
       " 'caps': [<matplotlib.lines.Line2D at 0x1d9c864f7f0>,\n",
       "  <matplotlib.lines.Line2D at 0x1d9c864fb50>],\n",
       " 'boxes': [<matplotlib.lines.Line2D at 0x1d9c8640d90>],\n",
       " 'medians': [<matplotlib.lines.Line2D at 0x1d9c864feb0>],\n",
       " 'fliers': [<matplotlib.lines.Line2D at 0x1d9c86581f0>],\n",
       " 'means': []}"
      ]
     },
     "execution_count": 21,
     "metadata": {},
     "output_type": "execute_result"
    },
    {
     "data": {
      "image/png": "[encoded data removed]",
      "text/plain": [
       "<Figure size 432x288 with 1 Axes>"
      ]
     },
     "metadata": {
      "needs_background": "light"
     },
     "output_type": "display_data"
    }
   ],
   "source": [
    "plt.boxplot(encoded_data.total)"
   ]
  },
  {
   "cell_type": "code",
   "execution_count": 22,
   "metadata": {},
   "outputs": [
    {
     "data": {
      "image/png": "[encoded data removed]",
      "text/plain": [
       "<Figure size 792x792 with 30 Axes>"
      ]
     },
     "metadata": {
      "needs_background": "light"
     },
     "output_type": "display_data"
    }
   ],
   "source": [
    "encoded_data.hist(figsize=[11,11])\n",
    "plt.show()"
   ]
  },
  {
   "cell_type": "code",
   "execution_count": 23,
   "metadata": {},
   "outputs": [
    {
     "data": {
      "text/plain": [
       "<matplotlib.axes._subplots.AxesSubplot at 0x1d9c8482790>"
      ]
     },
     "execution_count": 23,
     "metadata": {},
     "output_type": "execute_result"
    },
    {
     "data": {
      "image/png": "[encoded data removed]",
      "text/plain": [
       "<Figure size 1440x504 with 3 Axes>"
      ]
     },
     "metadata": {
      "needs_background": "light"
     },
     "output_type": "display_data"
    }
   ],
   "source": [
    "plt.figure(figsize=[20,7])\n",
    "plt.subplot(1,3,1)\n",
    "plt.title(\"runs_last_5 and total\")\n",
    "sns.scatterplot(x='runs_last_5',y='total',data=encoded_data)\n",
    "plt.subplot(1,3,2)\n",
    "plt.title(\"wickets_last_5 and total\")\n",
    "sns.scatterplot(x='wickets_last_5',y='total',data=encoded_data)\n",
    "plt.subplot(1,3,3)\n",
    "plt.title(\"runs and total\")\n",
    "sns.scatterplot(y='runs',x='total',data=encoded_data)"
   ]
  },
  {
   "cell_type": "markdown",
   "metadata": {},
   "source": [
    "## Python packages"
   ]
  },
  {
   "cell_type": "code",
   "execution_count": 24,
   "metadata": {},
   "outputs": [],
   "source": [
    "import pandas as pd\n",
    "import numpy as np\n",
    "import matplotlib.pyplot as plt\n",
    "from datetime import datetime\n",
    "from sklearn.model_selection import train_test_split\n",
    "from sklearn.neighbors import KNeighborsClassifier\n",
    "from sklearn.linear_model import LinearRegression\n",
    "from sklearn.ensemble import RandomForestRegressor\n",
    "from sklearn.model_selection import KFold"
   ]
  },
  {
   "cell_type": "markdown",
   "metadata": {},
   "source": [
    "### Supervised/Unsupervised learning"
   ]
  },
  {
   "cell_type": "code",
   "execution_count": 25,
   "metadata": {},
   "outputs": [],
   "source": [
    "#In datasets related to time and date we have to split train and test sample based on date.\n",
    "# I have seperated dataset based on year 2015 i.e => after 2015 comes under testing and remaining under training\n",
    "X_train = encoded_data.drop(labels='total', axis=1)[encoded_data['date'].dt.year <= 2015]\n",
    "X_test = encoded_data.drop(labels='total', axis=1)[encoded_data['date'].dt.year >= 2016]"
   ]
  },
  {
   "cell_type": "code",
   "execution_count": 26,
   "metadata": {},
   "outputs": [],
   "source": [
    "y_train = encoded_data[encoded_data['date'].dt.year <= 2015]['total'].values\n",
    "y_test = encoded_data[encoded_data['date'].dt.year >= 2016]['total'].values"
   ]
  },
  {
   "cell_type": "code",
   "execution_count": 27,
   "metadata": {},
   "outputs": [],
   "source": [
    "#Removing date column as we dont need that to train model\n",
    "X_train.drop(labels='date', axis=True, inplace=True)\n",
    "X_test.drop(labels='date', axis=True, inplace=True)"
   ]
  },
  {
   "cell_type": "code",
   "execution_count": 28,
   "metadata": {},
   "outputs": [],
   "source": [
    "# Data to be used for k-fold\n",
    "X = X_train.append(X_test)\n",
    "X = X.values\n",
    "y = np.concatenate([y_train,y_test])"
   ]
  },
  {
   "cell_type": "code",
   "execution_count": 29,
   "metadata": {},
   "outputs": [],
   "source": [
    "#To find accuracy of our model\n",
    "def custom_accuracy(y_test,y_pred,thresold):\n",
    "    ans = 0\n",
    "    n = len(y_pred)\n",
    "    for i in range(n):\n",
    "        if(abs(y_pred[i]-y_test[i]) <= thresold):\n",
    "            ans += 1\n",
    "    return ((ans/n)*100)"
   ]
  },
  {
   "cell_type": "markdown",
   "metadata": {},
   "source": [
    "### KNN-Implementation"
   ]
  },
  {
   "cell_type": "code",
   "execution_count": 30,
   "metadata": {},
   "outputs": [
    {
     "name": "stdout",
     "output_type": "stream",
     "text": [
      "Custom accuracy for knn: 37.092655642023345\n"
     ]
    }
   ],
   "source": [
    "knn = KNeighborsClassifier(n_neighbors = 5)\n",
    "knn.fit(X_train, y_train)\n",
    "y_pred = knn.predict(X_test)\n",
    "k_acc = custom_accuracy(y_test,y_pred,20)\n",
    "print(\"Custom accuracy for knn:\" , k_acc)"
   ]
  },
  {
   "cell_type": "markdown",
   "metadata": {},
   "source": [
    "### KNN-implementation from scratch"
   ]
  },
  {
   "cell_type": "code",
   "execution_count": 31,
   "metadata": {},
   "outputs": [],
   "source": [
    "def euclidDistance(a,b):\n",
    "    return np.linalg.norm(a-b)"
   ]
  },
  {
   "cell_type": "code",
   "execution_count": 32,
   "metadata": {},
   "outputs": [],
   "source": [
    "def nearestNeighbors(trainingData,testSample,k):\n",
    "    distances = []\n",
    "    for x in trainingData:\n",
    "        distances.append([x,euclidDistance(x[0:testSample.shape[0]],testSample)])\n",
    "    distances.sort(key = lambda x : x[-1])\n",
    "    distances = np.array(distances, dtype = 'object')\n",
    "    return distances[0:k]"
   ]
  },
  {
   "cell_type": "code",
   "execution_count": 33,
   "metadata": {},
   "outputs": [],
   "source": [
    "def predict(trainingData,testData,k):\n",
    "    res = []\n",
    "    for x in testData:\n",
    "        neighbors = nearestNeighbors(trainingData,x,k)\n",
    "        values = []\n",
    "        for y in neighbors:\n",
    "            values.append(y[0][-1])\n",
    "        res.append(max(set(values),key = values.count))\n",
    "    return res"
   ]
  },
  {
   "cell_type": "code",
   "execution_count": 34,
   "metadata": {},
   "outputs": [
    {
     "name": "stdout",
     "output_type": "stream",
     "text": [
      "Custom accuracy for KNN(scratch): 33.33333333333333\n"
     ]
    }
   ],
   "source": [
    "trainingData = np.column_stack((np.array(X_train.values),np.array(y_train))) \n",
    "testingData = np.array(X_test.values[0:30])\n",
    "pred = predict(trainingData,testingData,5)\n",
    "print(\"Custom accuracy for KNN(scratch):\" , custom_accuracy(y_test,pred,20))"
   ]
  },
  {
   "cell_type": "markdown",
   "metadata": {},
   "source": [
    "#### K-fold cross validation"
   ]
  },
  {
   "cell_type": "code",
   "execution_count": 35,
   "metadata": {},
   "outputs": [
    {
     "name": "stdout",
     "output_type": "stream",
     "text": [
      "Accuracies - [41.808935706502, 38.84852887758809, 37.8241917907737, 38.467126770795495, 39.14780776635548, 39.71085037596716, 36.866577064186856, 35.671473718624, 38.334120382142466, 36.71764321261215]\n",
      "Maximum Accuracy - 41.808935706502\n",
      "Minimum Accuracy - 35.671473718624\n",
      "Average Accuracy - 38.33972556655474\n"
     ]
    }
   ],
   "source": [
    "kf = KFold(n_splits=10, random_state=None) \n",
    "accuracy = []\n",
    "avg_a = 0\n",
    "max_a = 0\n",
    "min_a = 100\n",
    "\n",
    "for train_index, test_index in kf.split(X):\n",
    "    x1, x2 = X[train_index], X[test_index]\n",
    "    y1, y2 = y[train_index], y[test_index]\n",
    "    \n",
    "    knn = KNeighborsClassifier(n_neighbors = 5)\n",
    "    knn.fit(x1, y1)\n",
    "    y3 = knn.predict(x2)\n",
    "    \n",
    "    accu = custom_accuracy(y2,y3,20)\n",
    "    accuracy += [accu]\n",
    "    max_a = max(max_a,accu)\n",
    "    min_a = min(min_a,accu)\n",
    "    avg_a += accu\n",
    "    \n",
    "print(\"Accuracies -\",accuracy)\n",
    "print(\"Maximum Accuracy -\",max_a)\n",
    "print(\"Minimum Accuracy -\",min_a)\n",
    "print(\"Average Accuracy -\",avg_a/10)"
   ]
  },
  {
   "cell_type": "markdown",
   "metadata": {},
   "source": [
    "Linear regression"
   ]
  },
  {
   "cell_type": "code",
   "execution_count": 36,
   "metadata": {},
   "outputs": [
    {
     "name": "stdout",
     "output_type": "stream",
     "text": [
      "R square value: 58.22508225260754\n",
      "Custom accuracy for linear regression: 43.01738813229572\n"
     ]
    }
   ],
   "source": [
    "lr = LinearRegression()\n",
    "lr.fit(X_train, y_train)\n",
    "y_pred = lr.predict(X_test)\n",
    "score = lr.score(X_test,y_test)*100\n",
    "l_acc = custom_accuracy(y_test,y_pred,20)\n",
    "\n",
    "print(\"R square value:\" , score)\n",
    "print(\"Custom accuracy for linear regression:\" , l_acc)"
   ]
  },
  {
   "cell_type": "markdown",
   "metadata": {},
   "source": [
    "#### K-fold cross validation"
   ]
  },
  {
   "cell_type": "code",
   "execution_count": 37,
   "metadata": {},
   "outputs": [
    {
     "name": "stdout",
     "output_type": "stream",
     "text": [
      "Accuracies - [50.39593171086088, 49.84017435524882, 45.35779150018162, 47.79513258263712, 51.247775073558785, 45.20324021940499, 38.92985578844128, 43.36517853899524, 43.76112463220604, 42.82393112717498]\n",
      "Maximum Accuracy - 51.247775073558785\n",
      "Minimum Accuracy - 38.92985578844128\n",
      "Average Accuracy - 45.872013552870975\n"
     ]
    }
   ],
   "source": [
    "kf = KFold(n_splits=10, random_state=None) \n",
    "accuracy = []\n",
    "avg_a = 0\n",
    "max_a = 0\n",
    "min_a = 100\n",
    "\n",
    "for train_index, test_index in kf.split(X):\n",
    "    x1, x2 = X[train_index], X[test_index]\n",
    "    y1, y2 = y[train_index], y[test_index]\n",
    "    \n",
    "    lr = LinearRegression()\n",
    "    lr.fit(x1, y1)\n",
    "    y3 = lr.predict(x2)\n",
    "    \n",
    "    accu = custom_accuracy(y2,y3,20)\n",
    "    accuracy += [accu]\n",
    "    max_a = max(max_a,accu)\n",
    "    min_a = min(min_a,accu)\n",
    "    avg_a += accu\n",
    "    \n",
    "print(\"Accuracies -\",accuracy)\n",
    "print(\"Maximum Accuracy -\",max_a)\n",
    "print(\"Minimum Accuracy -\",min_a)\n",
    "print(\"Average Accuracy -\",avg_a/10)"
   ]
  },
  {
   "cell_type": "markdown",
   "metadata": {},
   "source": [
    "#### Random forest regressor"
   ]
  },
  {
   "cell_type": "code",
   "execution_count": 38,
   "metadata": {
    "scrolled": true
   },
   "outputs": [
    {
     "name": "stdout",
     "output_type": "stream",
     "text": [
      "R square value: 46.1537878065729\n",
      "Custom accuracy for linear regression: 44.318458171206224\n"
     ]
    }
   ],
   "source": [
    "rf = RandomForestRegressor(n_estimators=100,max_features=None)\n",
    "rf.fit(X_train, y_train)\n",
    "y_pred = rf.predict(X_test)\n",
    "score = rf.score(X_test,y_test)*100\n",
    "r_acc = custom_accuracy(y_test,y_pred,20)\n",
    "\n",
    "print(\"R square value:\" , score)\n",
    "print(\"Custom accuracy for linear regression:\" , r_acc)"
   ]
  },
  {
   "cell_type": "markdown",
   "metadata": {},
   "source": [
    "k-fold cross validation"
   ]
  },
  {
   "cell_type": "code",
   "execution_count": 39,
   "metadata": {},
   "outputs": [
    {
     "name": "stdout",
     "output_type": "stream",
     "text": [
      "Accuracies - [49.60770069015619, 49.22993098438068, 45.54667635306938, 47.89683981111515, 49.11911075593011, 46.10774092774892, 43.37607613789095, 42.05746667151005, 46.300265174906464, 43.764757165171275]\n",
      "Maximum Accuracy - 49.60770069015619\n",
      "Minimum Accuracy - 42.05746667151005\n",
      "Average Accuracy - 46.30065646718792\n"
     ]
    }
   ],
   "source": [
    "kf = KFold(n_splits=10, random_state=None) \n",
    "accuracy = []\n",
    "avg_a = 0\n",
    "max_a = 0\n",
    "min_a = 100\n",
    "\n",
    "for train_index, test_index in kf.split(X):\n",
    "    x1, x2 = X[train_index], X[test_index]\n",
    "    y1, y2 = y[train_index], y[test_index]\n",
    "    \n",
    "    rf = RandomForestRegressor(n_estimators=100,max_features=None)\n",
    "    rf.fit(x1, y1)\n",
    "    y3 = rf.predict(x2)\n",
    "    \n",
    "    accu = custom_accuracy(y2,y3,20)\n",
    "    accuracy += [accu]\n",
    "    max_a = max(max_a,accu)\n",
    "    min_a = min(min_a,accu)\n",
    "    avg_a += accu\n",
    "    \n",
    "print(\"Accuracies -\",accuracy)\n",
    "print(\"Maximum Accuracy -\",max_a)\n",
    "print(\"Minimum Accuracy -\",min_a)\n",
    "print(\"Average Accuracy -\",avg_a/10)"
   ]
  },
  {
   "cell_type": "markdown",
   "metadata": {},
   "source": [
    "## Accuracy plot"
   ]
  },
  {
   "cell_type": "code",
   "execution_count": 40,
   "metadata": {},
   "outputs": [
    {
     "data": {
      "image/png": "[encoded data removed]",
      "text/plain": [
       "<Figure size 576x360 with 1 Axes>"
      ]
     },
     "metadata": {
      "needs_background": "light"
     },
     "output_type": "display_data"
    }
   ],
   "source": [
    "colnames = [\"accuracy\",\"names\"]\n",
    "acc = [[k_acc,\"KNN\"],[l_acc,\"Linear regression\"],[r_acc,\"Random forest\"]]\n",
    "\n",
    "mydataframe = pd.DataFrame(acc,columns=colnames)\n",
    "plt.figure(figsize=(8,5))\n",
    "plt.bar(\"names\", \"accuracy\", data = mydataframe, color = \"blue\")\n",
    "plt.xlabel(\"method\")\n",
    "plt.ylabel(\"accuracy\")\n",
    "plt.title(\"comparing accuracies\")\n",
    "plt.show()"
   ]
  },
  {
   "cell_type": "markdown",
   "metadata": {},
   "source": [
    "## Score prediction"
   ]
  },
  {
   "cell_type": "code",
   "execution_count": 41,
   "metadata": {},
   "outputs": [],
   "source": [
    "a = np.array([0,1,2,3,4,5,6,7,8,9,10])\n",
    "b = np.zeros((a.size, a.max()+1))\n",
    "b[np.arange(a.size),a] = 1"
   ]
  },
  {
   "cell_type": "code",
   "execution_count": 59,
   "metadata": {},
   "outputs": [
    {
     "name": "stdout",
     "output_type": "stream",
     "text": [
      "0 England\n",
      "1 India\n",
      "2 Pakistan\n",
      "3 Sri Lanka\n",
      "4 Australia\n",
      "5 South Africa\n",
      "6 New Zealand\n",
      "7 Bangladesh\n",
      "8 West Indies\n",
      "9 Ireland\n",
      "10 Zimbabwe\n",
      "Please input the bat team from the list(0-10): 6\n",
      "\n",
      "You chose:  New Zealand\n"
     ]
    }
   ],
   "source": [
    "for i in range(len(consistent_teams)):\n",
    "    print(i,consistent_teams[i])\n",
    "bat_team = int(input(\"Please input the bat team from the list(0-10): \"))\n",
    "print()\n",
    "print(\"You chose: \",consistent_teams[bat_team])\n",
    "bat_team = b[bat_team]"
   ]
  },
  {
   "cell_type": "code",
   "execution_count": 60,
   "metadata": {},
   "outputs": [
    {
     "name": "stdout",
     "output_type": "stream",
     "text": [
      "0 England\n",
      "1 India\n",
      "2 Pakistan\n",
      "3 Sri Lanka\n",
      "4 Australia\n",
      "5 South Africa\n",
      "6 New Zealand\n",
      "7 Bangladesh\n",
      "8 West Indies\n",
      "9 Ireland\n",
      "10 Zimbabwe\n",
      "Please input the bowl team from the list(0-10): 1\n",
      "\n",
      "You chose:  India\n"
     ]
    }
   ],
   "source": [
    "for i in range(len(consistent_teams)):\n",
    "    print(i,consistent_teams[i])\n",
    "bowl_team = int(input(\"Please input the bowl team from the list(0-10): \"))\n",
    "print()\n",
    "print(\"You chose: \",consistent_teams[bowl_team])\n",
    "bowl_team = b[bowl_team]"
   ]
  },
  {
   "cell_type": "code",
   "execution_count": 61,
   "metadata": {},
   "outputs": [
    {
     "name": "stdout",
     "output_type": "stream",
     "text": [
      "Please enter the current over(>5.0): 34\n",
      "Please enter the current score: 170\n",
      "Please enter the wickets fallen: 3\n",
      "Please enter the runs scored in last 5 overs: 30\n",
      "Please enter the wickets fallen in last 5 overs: 1\n"
     ]
    }
   ],
   "source": [
    "overs = float(input(\"Please enter the current over(>5.0): \"))\n",
    "\n",
    "runs = int(input(\"Please enter the current score: \"))\n",
    "\n",
    "wickets = int(input(\"Please enter the wickets fallen: \"))\n",
    "\n",
    "runs_last_5 = int(input(\"Please enter the runs scored in last 5 overs: \"))\n",
    "\n",
    "wickets_last_5 = int(input(\"Please enter the wickets fallen in last 5 overs: \"))"
   ]
  },
  {
   "cell_type": "code",
   "execution_count": 62,
   "metadata": {},
   "outputs": [],
   "source": [
    "#making a vector out of the values\n",
    "data=[]\n",
    "for i in bat_team:\n",
    "    data.append(i)\n",
    "for i in bowl_team:\n",
    "    data.append(i)\n",
    "data.append(overs)\n",
    "data.append(runs)\n",
    "data.append(wickets)\n",
    "data.append(runs_last_5)\n",
    "data.append(wickets_last_5)\n",
    "data=np.array([data])"
   ]
  },
  {
   "cell_type": "code",
   "execution_count": 63,
   "metadata": {},
   "outputs": [
    {
     "name": "stdout",
     "output_type": "stream",
     "text": [
      "Predicted Score from all three regressor's are: \n",
      "280\n",
      "259\n",
      "268\n"
     ]
    }
   ],
   "source": [
    "print(\"Predicted Score from all three regressor's are: \")\n",
    "print(int(lr.predict(data)))\n",
    "print(int(knn.predict(data)))\n",
    "pred=int(rf.predict(data))\n",
    "print(int(rf.predict(data)))"
   ]
  },
  {
   "cell_type": "code",
   "execution_count": 64,
   "metadata": {},
   "outputs": [
    {
     "name": "stdout",
     "output_type": "stream",
     "text": [
      "So the average score is from 258 to 278\n"
     ]
    }
   ],
   "source": [
    "print(\"So the average score is from {} to {}\".format(pred-10,pred+10))"
   ]
  },
  {
   "cell_type": "code",
   "execution_count": 65,
   "metadata": {},
   "outputs": [],
   "source": [
    "import pickle\n",
    "# Creating a pickle file for the classifier\n",
    "filename = 'odimodel.pkl'\n",
    "pickle.dump(rf, open(filename, 'wb'))"
   ]
  },
  {
   "cell_type": "code",
   "execution_count": null,
   "metadata": {},
   "outputs": [],
   "source": []
  }
 ],
 "metadata": {
  "kernelspec": {
   "display_name": "Python 3",
   "language": "python",
   "name": "python3"
  },
  "language_info": {
   "codemirror_mode": {
    "name": "ipython",
    "version": 3
   },
   "file_extension": ".py",
   "mimetype": "text/x-python",
   "name": "python",
   "nbconvert_exporter": "python",
   "pygments_lexer": "ipython3",
   "version": "3.8.3"
  }
 },
 "nbformat": 4,
 "nbformat_minor": 4
}
